{
  "nbformat": 4,
  "nbformat_minor": 0,
  "metadata": {
    "colab": {
      "name": "detected_text_class.ipynb",
      "provenance": [],
      "collapsed_sections": [],
      "include_colab_link": true
    },
    "kernelspec": {
      "name": "python3",
      "display_name": "Python 3"
    }
  },
  "cells": [
    {
      "cell_type": "markdown",
      "metadata": {
        "id": "view-in-github",
        "colab_type": "text"
      },
      "source": [
        "<a href=\"https://colab.research.google.com/github/trikialaa/BeyondATS/blob/master/detected_text_class.ipynb\" target=\"_parent\"><img src=\"https://colab.research.google.com/assets/colab-badge.svg\" alt=\"Open In Colab\"/></a>"
      ]
    },
    {
      "cell_type": "code",
      "metadata": {
        "id": "MWmcklsOYY8r",
        "colab_type": "code",
        "colab": {}
      },
      "source": [
        "#importing necessary libraries\n",
        "from PIL import Image\n",
        "import cv2"
      ],
      "execution_count": 0,
      "outputs": []
    },
    {
      "cell_type": "code",
      "metadata": {
        "id": "-70z3yP-ZjNV",
        "colab_type": "code",
        "colab": {}
      },
      "source": [
        "#class that describes a detected class\n",
        "\n",
        "class detected_text:\n",
        "\n",
        "  def __init__(self, image):\n",
        "    # image passed in the constructor should have a 2px padding from each side\n",
        "    this.value=extract_value(image)\n",
        "    this.fontSize=extract_fontSize(image)\n",
        "    this.bgColor=extract_bgColor(image)\n",
        "    this.fontColor=extract_fontColor(image)\n",
        "    \n",
        "\n",
        "  def extract_value(image):\n",
        "    value=''\n",
        "    # return value using tesseract\n",
        "    return value\n",
        "\n",
        "  def extract_fontSize(image):\n",
        "    fontSize=0\n",
        "    # return image height\n",
        "    width, height = image.size\n",
        "    return height\n",
        "\n",
        "  def extract_bgColor(image):\n",
        "    bgColor=(255,255,255)\n",
        "    # construct an image composed of the 2px padding\n",
        "    # return the dominant color in the constructed image\n",
        "    return bgColor\n",
        "\n",
        "  def extract_fontColor(image):\n",
        "    fontColor=(0,0,0)\n",
        "    # remove the 2px padding from the image (2px cropping from each side)\n",
        "    # if the dominant color is different than bgColor (according to a score) then return that color\n",
        "    # else return the second dominant color\n",
        "    return fontColor\n",
        "\n",
        "  \n",
        "\n",
        "  "
      ],
      "execution_count": 0,
      "outputs": []
    }
  ]
}